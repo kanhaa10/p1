{
 "cells": [
  {
   "cell_type": "code",
   "execution_count": null,
   "id": "b9bdcb98",
   "metadata": {},
   "outputs": [],
   "source": [
    "print(\"fuck0\")\n",
    "print(\"dwdw\")\n"
   ]
  }
 ],
 "metadata": {
  "language_info": {
   "name": "python"
  }
 },
 "nbformat": 4,
 "nbformat_minor": 5
}
